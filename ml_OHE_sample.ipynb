{
 "cells": [
  {
   "cell_type": "markdown",
   "metadata": {},
   "source": [
    "# Learning ML with OHE"
   ]
  },
  {
   "cell_type": "code",
   "execution_count": 5,
   "metadata": {
    "collapsed": false
   },
   "outputs": [
    {
     "data": {
      "text/plain": [
       "['e=Boston',\n",
       " 'e=Chicago',\n",
       " 'e=New York',\n",
       " 'f=Chrome',\n",
       " 'f=Firefox',\n",
       " 'f=Opera',\n",
       " 'f=Safari']"
      ]
     },
     "execution_count": 5,
     "metadata": {},
     "output_type": "execute_result"
    }
   ],
   "source": [
    "vec = DictVectorizer(sparse=False)\n",
    "vec.fit_transform(df[['e', 'f']].T.to_dict().values())\n",
    "vec.get_feature_names()"
   ]
  },
  {
   "cell_type": "code",
   "execution_count": 33,
   "metadata": {
    "collapsed": false
   },
   "outputs": [
    {
     "data": {
      "text/plain": [
       "array([ 1.,  0.,  0.,  0.,  0.,  1.,  0.])"
      ]
     },
     "execution_count": 33,
     "metadata": {},
     "output_type": "execute_result"
    }
   ],
   "source": [
    "DictVectorizer(sparse=False).fit_transform(df[['e', 'f']].T.to_dict().values())[0]"
   ]
  },
  {
   "cell_type": "code",
   "execution_count": 3,
   "metadata": {
    "collapsed": false
   },
   "outputs": [
    {
     "data": {
      "text/plain": [
       "{0: {'e': 'Boston', 'f': 'Safari'},\n",
       " 1: {'e': 'New York', 'f': 'Firefox'},\n",
       " 2: {'e': 'New York', 'f': 'Firefox'},\n",
       " 3: {'e': 'Boston', 'f': 'Safari'},\n",
       " 4: {'e': 'Boston', 'f': 'Safari'},\n",
       " 5: {'e': 'Chicago', 'f': 'Firefox'},\n",
       " 6: {'e': 'Boston', 'f': 'Opera'},\n",
       " 7: {'e': 'Chicago', 'f': 'Safari'},\n",
       " 8: {'e': 'Chicago', 'f': 'Chrome'},\n",
       " 9: {'e': 'Boston', 'f': 'Safari'},\n",
       " 10: {'e': 'New York', 'f': 'Firefox'},\n",
       " 11: {'e': 'New York', 'f': 'Chrome'},\n",
       " 12: {'e': 'New York', 'f': 'Chrome'},\n",
       " 13: {'e': 'New York', 'f': 'Chrome'},\n",
       " 14: {'e': 'Boston', 'f': 'Opera'},\n",
       " 15: {'e': 'Boston', 'f': 'Safari'},\n",
       " 16: {'e': 'New York', 'f': 'Safari'},\n",
       " 17: {'e': 'Boston', 'f': 'Firefox'},\n",
       " 18: {'e': 'Chicago', 'f': 'Chrome'},\n",
       " 19: {'e': 'Boston', 'f': 'Opera'},\n",
       " 20: {'e': 'Chicago', 'f': 'Opera'},\n",
       " 21: {'e': 'Chicago', 'f': 'Firefox'},\n",
       " 22: {'e': 'Boston', 'f': 'Opera'},\n",
       " 23: {'e': 'Chicago', 'f': 'Firefox'},\n",
       " 24: {'e': 'New York', 'f': 'Safari'}}"
      ]
     },
     "execution_count": 3,
     "metadata": {},
     "output_type": "execute_result"
    }
   ],
   "source": [
    "df[['e', 'f']].T.to_dict()"
   ]
  },
  {
   "cell_type": "code",
   "execution_count": 28,
   "metadata": {
    "collapsed": false
   },
   "outputs": [
    {
     "data": {
      "text/plain": [
       "{'e': {0: 'Boston',\n",
       "  1: 'Boston',\n",
       "  2: 'New York',\n",
       "  3: 'Chicago',\n",
       "  4: 'Chicago',\n",
       "  5: 'Boston',\n",
       "  6: 'Boston',\n",
       "  7: 'New York',\n",
       "  8: 'Boston',\n",
       "  9: 'New York',\n",
       "  10: 'Chicago',\n",
       "  11: 'Boston',\n",
       "  12: 'New York',\n",
       "  13: 'New York',\n",
       "  14: 'New York',\n",
       "  15: 'Boston',\n",
       "  16: 'New York',\n",
       "  17: 'New York',\n",
       "  18: 'New York',\n",
       "  19: 'Boston',\n",
       "  20: 'Boston',\n",
       "  21: 'New York',\n",
       "  22: 'Chicago',\n",
       "  23: 'Chicago',\n",
       "  24: 'Chicago'},\n",
       " 'f': {0: 'Opera',\n",
       "  1: 'Safari',\n",
       "  2: 'Firefox',\n",
       "  3: 'Opera',\n",
       "  4: 'Firefox',\n",
       "  5: 'Opera',\n",
       "  6: 'Safari',\n",
       "  7: 'Firefox',\n",
       "  8: 'Firefox',\n",
       "  9: 'Chrome',\n",
       "  10: 'Opera',\n",
       "  11: 'Opera',\n",
       "  12: 'Chrome',\n",
       "  13: 'Chrome',\n",
       "  14: 'Firefox',\n",
       "  15: 'Chrome',\n",
       "  16: 'Opera',\n",
       "  17: 'Firefox',\n",
       "  18: 'Safari',\n",
       "  19: 'Safari',\n",
       "  20: 'Chrome',\n",
       "  21: 'Firefox',\n",
       "  22: 'Chrome',\n",
       "  23: 'Chrome',\n",
       "  24: 'Safari'}}"
      ]
     },
     "execution_count": 28,
     "metadata": {},
     "output_type": "execute_result"
    }
   ],
   "source": [
    "df[['e','f']].to_dict()"
   ]
  },
  {
   "cell_type": "code",
   "execution_count": 15,
   "metadata": {
    "collapsed": false
   },
   "outputs": [],
   "source": [
    "dfe, _, _ = one_hot_dataframe(df, ['e', 'f'], replace=True)"
   ]
  },
  {
   "cell_type": "code",
   "execution_count": 16,
   "metadata": {
    "collapsed": false
   },
   "outputs": [
    {
     "name": "stdout",
     "output_type": "stream",
     "text": [
      "           a         b         c  e=Boston  e=Chicago  e=New York  f=Chrome  \\\n",
      "0  -0.239760 -0.574232 -0.595970         1          0           0         0   \n",
      "1  -0.574809 -0.319168  0.479986         1          0           0         0   \n",
      "2  -0.691434 -0.440980  0.870753         0          0           1         0   \n",
      "3   0.585601  0.873340 -0.517539         0          1           0         0   \n",
      "4  -0.202074 -0.343083 -1.181095         0          1           0         0   \n",
      "5   0.149803  0.115482 -0.667478         1          0           0         0   \n",
      "6   0.959770  0.602705  1.408899         1          0           0         0   \n",
      "7   0.515406  1.183909 -2.472706         0          0           1         0   \n",
      "8   0.125241 -2.100370 -1.034501         1          0           0         0   \n",
      "9  -0.485841  0.288541 -0.242440         0          0           1         1   \n",
      "10  0.866873 -0.486995 -1.176869         0          1           0         0   \n",
      "11  1.141563 -0.052769 -0.002492         1          0           0         0   \n",
      "12  1.184819  0.569011  0.788050         0          0           1         1   \n",
      "13  0.413005 -0.914377 -0.099537         0          0           1         1   \n",
      "14  0.481551  0.329146  1.406324         0          0           1         0   \n",
      "15  1.207395  0.671462  0.906973         1          0           0         1   \n",
      "16 -0.714656  1.603735  0.663287         0          0           1         0   \n",
      "17 -0.254606 -0.359365 -0.551846         0          0           1         0   \n",
      "18  0.589679 -1.310312 -0.663968         0          0           1         0   \n",
      "19  0.046052  0.168784  0.369542         1          0           0         0   \n",
      "20 -0.454811 -0.283338 -0.480148         1          0           0         1   \n",
      "21  0.806301 -0.156569 -0.482983         0          0           1         0   \n",
      "22 -0.662024  1.295279 -0.435764         0          1           0         1   \n",
      "23 -0.364875  0.346093  0.101566         0          1           0         1   \n",
      "24  0.358617  1.306248 -0.349111         0          1           0         0   \n",
      "\n",
      "    f=Firefox  f=Opera  f=Safari  \n",
      "0           0        1         0  \n",
      "1           0        0         1  \n",
      "2           1        0         0  \n",
      "3           0        1         0  \n",
      "4           1        0         0  \n",
      "5           0        1         0  \n",
      "6           0        0         1  \n",
      "7           1        0         0  \n",
      "8           1        0         0  \n",
      "9           0        0         0  \n",
      "10          0        1         0  \n",
      "11          0        1         0  \n",
      "12          0        0         0  \n",
      "13          0        0         0  \n",
      "14          1        0         0  \n",
      "15          0        0         0  \n",
      "16          0        1         0  \n",
      "17          1        0         0  \n",
      "18          0        0         1  \n",
      "19          0        0         1  \n",
      "20          0        0         0  \n",
      "21          1        0         0  \n",
      "22          0        0         0  \n",
      "23          0        0         0  \n",
      "24          0        0         1  \n"
     ]
    }
   ],
   "source": [
    "print dfe"
   ]
  },
  {
   "cell_type": "code",
   "execution_count": 6,
   "metadata": {
    "collapsed": false
   },
   "outputs": [
    {
     "name": "stdout",
     "output_type": "stream",
     "text": [
      "           a         b         c         e        f\n",
      "0  -2.218027 -0.075260  0.536075   Chicago   Safari\n",
      "1  -0.788003 -0.872123  2.198908    Boston   Safari\n",
      "2   1.949646  2.097550 -0.029097  New York  Firefox\n",
      "3  -0.181542 -2.069331 -2.318922  New York   Chrome\n",
      "4  -1.018869  0.775520 -0.464508    Boston   Chrome\n",
      "5   0.690170  1.026088 -2.682810    Boston   Safari\n",
      "6   0.671896 -0.175252  0.407241  New York   Safari\n",
      "7   0.770546  0.238234 -0.362008    Boston  Firefox\n",
      "8  -1.049318 -0.403849  0.387242   Chicago    Opera\n",
      "9  -0.606921 -0.332583 -1.648034  New York   Chrome\n",
      "10  0.679687 -1.625962 -0.438157    Boston  Firefox\n",
      "11  1.164254  0.105442  0.661446  New York  Firefox\n",
      "12 -2.067548  1.252686  0.766033   Chicago   Safari\n",
      "13  0.516288  0.296604  1.158520  New York   Chrome\n",
      "14  0.885021 -1.347620  0.001952  New York    Opera\n",
      "15  0.813130 -0.039354 -0.951146   Chicago   Chrome\n",
      "16 -1.234355 -1.568677  0.178485  New York   Safari\n",
      "17 -0.223021 -0.469136 -1.297888  New York   Chrome\n",
      "18  0.501951  0.594179  1.503435   Chicago   Chrome\n",
      "19 -1.187113 -0.125343 -0.135325  New York  Firefox\n",
      "20  0.486033  0.388625 -0.039578    Boston   Chrome\n",
      "21 -0.878536  0.462941 -0.743952    Boston  Firefox\n",
      "22 -1.604458 -0.781340 -0.665223  New York    Opera\n",
      "23  1.968723 -1.284130  1.478360  New York   Chrome\n",
      "24  0.986311  0.178019  0.586920    Boston  Firefox\n"
     ]
    }
   ],
   "source": [
    "print df"
   ]
  },
  {
   "cell_type": "code",
   "execution_count": 1,
   "metadata": {
    "collapsed": true
   },
   "outputs": [],
   "source": [
    "import pandas\n",
    "import random\n",
    "import numpy\n",
    "from sklearn.feature_extraction import DictVectorizer"
   ]
  },
  {
   "cell_type": "code",
   "execution_count": 2,
   "metadata": {
    "collapsed": false
   },
   "outputs": [],
   "source": [
    "# Get a random DataFrame\n",
    "df = pandas.DataFrame(numpy.random.randn(25, 3), columns=['a', 'b', 'c'])\n",
    "\n",
    "# Make some random categorical columns\n",
    "df['e'] = [random.choice(('Chicago', 'Boston', 'New York')) for i in range(df.shape[0])]\n",
    "df['f'] = [random.choice(('Chrome', 'Firefox', 'Opera', \"Safari\")) for i in range(df.shape[0])]"
   ]
  },
  {
   "cell_type": "markdown",
   "metadata": {},
   "source": [
    "#### Working Alternative from [here](https://gist.github.com/saihttam/cad6d3d223fc8d769227)"
   ]
  },
  {
   "cell_type": "code",
   "execution_count": 14,
   "metadata": {
    "collapsed": true
   },
   "outputs": [],
   "source": [
    "def one_hot_dataframe(data, cols, replace=False):\n",
    "    \"\"\" Takes a dataframe and a list of columns that need to be encoded.\n",
    "        Returns a 3-tuple comprising the data, the vectorized data,\n",
    "        and the fitted vectorizor.\"\"\"\n",
    "    vec = DictVectorizer(sparse=False)\n",
    "    vecData = pandas.DataFrame(vec.fit_transform(data[cols].T.to_dict().values()))\n",
    "    vecData.columns = vec.get_feature_names()\n",
    "    vecData.index = data.index\n",
    "    if replace is True:\n",
    "        data = data.drop(cols, axis=1)\n",
    "        data = data.join(vecData)\n",
    "    return (data, vecData, vec)"
   ]
  },
  {
   "cell_type": "markdown",
   "metadata": {},
   "source": [
    "Got original code from [here](https://gist.github.com/kljensen/5452382)"
   ]
  },
  {
   "cell_type": "code",
   "execution_count": 7,
   "metadata": {
    "collapsed": true
   },
   "outputs": [],
   "source": [
    "def one_hot_dataframe(data, cols, replace=True):\n",
    "    \"\"\" Takes a dataframe and a list of columns that need to be encoded.\n",
    "        Returns a 3-tuple comprising the data, the vectorized data,\n",
    "        and the fitted vectorizor.\n",
    "    \"\"\"\n",
    "    vec = DictVectorizer()\n",
    "    mkdict = lambda row: dict((col, row[col]) for col in cols)\n",
    "    vecData = pandas.DataFrame(vec.fit_transform(data[cols].apply(mkdict, axis=1)).toarray())\n",
    "    vecData.columns = vec.get_feature_names()\n",
    "    vecData.index = data.index\n",
    "    if replace is True:\n",
    "        data = data.drop(cols, axis=1)\n",
    "        data = data.join(vecData)\n",
    "    return (data, vecData, vec)"
   ]
  }
 ],
 "metadata": {
  "kernelspec": {
   "display_name": "Python 2",
   "language": "python",
   "name": "python2"
  },
  "language_info": {
   "codemirror_mode": {
    "name": "ipython",
    "version": 2
   },
   "file_extension": ".py",
   "mimetype": "text/x-python",
   "name": "python",
   "nbconvert_exporter": "python",
   "pygments_lexer": "ipython2",
   "version": "2.7.10"
  }
 },
 "nbformat": 4,
 "nbformat_minor": 0
}
